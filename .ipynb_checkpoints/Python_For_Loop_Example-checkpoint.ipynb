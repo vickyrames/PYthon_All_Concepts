{
 "cells": [
  {
   "cell_type": "code",
   "execution_count": 1,
   "id": "a82e5896",
   "metadata": {},
   "outputs": [],
   "source": [
    "# For Loop Example"
   ]
  },
  {
   "cell_type": "markdown",
   "id": "00a6d400",
   "metadata": {},
   "source": [
    "### For Loop Example"
   ]
  },
  {
   "cell_type": "code",
   "execution_count": 2,
   "id": "297b00e0",
   "metadata": {},
   "outputs": [],
   "source": [
    "## A Python program to display characters of a string using for loop"
   ]
  },
  {
   "cell_type": "code",
   "execution_count": 7,
   "id": "b1e54370",
   "metadata": {},
   "outputs": [
    {
     "name": "stdout",
     "output_type": "stream",
     "text": [
      "P\n",
      "Y\n",
      "T\n",
      "H\n",
      "O\n",
      "N\n",
      " \n",
      "C\n",
      "O\n",
      "D\n",
      "E\n"
     ]
    }
   ],
   "source": [
    "str = 'Python Code'\n",
    "\n",
    "for ch in str:\n",
    "    print(ch.upper())"
   ]
  },
  {
   "cell_type": "code",
   "execution_count": 8,
   "id": "84b9764e",
   "metadata": {},
   "outputs": [
    {
     "data": {
      "text/plain": [
       "6"
      ]
     },
     "execution_count": 8,
     "metadata": {},
     "output_type": "execute_result"
    }
   ],
   "source": [
    "b = 'Length'\n",
    "len(b)"
   ]
  },
  {
   "cell_type": "code",
   "execution_count": 9,
   "id": "71a2302a",
   "metadata": {},
   "outputs": [],
   "source": [
    "## To Display Odd Numbers from 1 to 50 using range"
   ]
  },
  {
   "cell_type": "code",
   "execution_count": 11,
   "id": "5bd56e0e",
   "metadata": {},
   "outputs": [
    {
     "name": "stdout",
     "output_type": "stream",
     "text": [
      "1\n",
      "3\n",
      "5\n",
      "7\n",
      "9\n",
      "11\n",
      "13\n",
      "15\n",
      "17\n",
      "19\n",
      "21\n",
      "23\n",
      "25\n",
      "27\n",
      "29\n",
      "31\n",
      "33\n",
      "35\n",
      "37\n",
      "39\n",
      "41\n",
      "43\n",
      "45\n",
      "47\n",
      "49\n"
     ]
    }
   ],
   "source": [
    "for i in range(1,50):\n",
    "    if(i % 2 == 1):\n",
    "        print(i)"
   ]
  },
  {
   "cell_type": "code",
   "execution_count": null,
   "id": "a15e7723",
   "metadata": {},
   "outputs": [],
   "source": []
  }
 ],
 "metadata": {
  "kernelspec": {
   "display_name": "Python 3",
   "language": "python",
   "name": "python3"
  },
  "language_info": {
   "codemirror_mode": {
    "name": "ipython",
    "version": 3
   },
   "file_extension": ".py",
   "mimetype": "text/x-python",
   "name": "python",
   "nbconvert_exporter": "python",
   "pygments_lexer": "ipython3",
   "version": "3.8.8"
  }
 },
 "nbformat": 4,
 "nbformat_minor": 5
}
