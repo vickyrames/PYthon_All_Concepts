{
 "cells": [
  {
   "cell_type": "markdown",
   "id": "326766f5",
   "metadata": {},
   "source": [
    "### Python Data Structures and Boolean (03-Jan-2024)\n",
    "\n",
    "Boolean\n",
    "Boolean and Logical Operators\n",
    "Lists\n",
    "Comparison Operators\n",
    "Dictionaries\n",
    "Tuples\n",
    "Sets"
   ]
  },
  {
   "cell_type": "code",
   "execution_count": 1,
   "id": "9fdd0873",
   "metadata": {},
   "outputs": [],
   "source": [
    "bo_boolean = True"
   ]
  },
  {
   "cell_type": "code",
   "execution_count": 2,
   "id": "b5e0e08d",
   "metadata": {},
   "outputs": [
    {
     "name": "stdout",
     "output_type": "stream",
     "text": [
      "True\n"
     ]
    }
   ],
   "source": [
    "print(bo_boolean)"
   ]
  },
  {
   "cell_type": "code",
   "execution_count": 3,
   "id": "5e073ace",
   "metadata": {},
   "outputs": [],
   "source": [
    "lst = [10,24,34,54,25,31]"
   ]
  },
  {
   "cell_type": "code",
   "execution_count": 5,
   "id": "516fa232",
   "metadata": {},
   "outputs": [],
   "source": [
    "lst_string = ['The','Boolean','Value']"
   ]
  },
  {
   "cell_type": "code",
   "execution_count": 6,
   "id": "61b3cb18",
   "metadata": {},
   "outputs": [],
   "source": [
    "string = ''.join(lst_string)"
   ]
  },
  {
   "cell_type": "code",
   "execution_count": 7,
   "id": "a19dc897",
   "metadata": {},
   "outputs": [
    {
     "name": "stdout",
     "output_type": "stream",
     "text": [
      "TheBooleanValue\n"
     ]
    }
   ],
   "source": [
    "print(string)"
   ]
  },
  {
   "cell_type": "code",
   "execution_count": 8,
   "id": "f18158b0",
   "metadata": {},
   "outputs": [],
   "source": [
    "con_numbers = ''.join(str(lst))"
   ]
  },
  {
   "cell_type": "code",
   "execution_count": 9,
   "id": "05514e83",
   "metadata": {},
   "outputs": [
    {
     "name": "stdout",
     "output_type": "stream",
     "text": [
      "[10, 24, 34, 54, 25, 31]\n"
     ]
    }
   ],
   "source": [
    "print(con_numbers)"
   ]
  },
  {
   "cell_type": "code",
   "execution_count": 10,
   "id": "efb44703",
   "metadata": {},
   "outputs": [],
   "source": [
    "lst_string.append('Sharing')"
   ]
  },
  {
   "cell_type": "code",
   "execution_count": 11,
   "id": "37b1f40d",
   "metadata": {},
   "outputs": [
    {
     "data": {
      "text/plain": [
       "['The', 'Boolean', 'Value', 'Sharing']"
      ]
     },
     "execution_count": 11,
     "metadata": {},
     "output_type": "execute_result"
    }
   ],
   "source": [
    "lst_string"
   ]
  },
  {
   "cell_type": "code",
   "execution_count": 12,
   "id": "c6b82d8a",
   "metadata": {},
   "outputs": [],
   "source": [
    "set_test = set({1,1,2,2,3,3,3,3,3,4,4,4,5,5,5,6,6,7,8,7,6,5,43,2})"
   ]
  },
  {
   "cell_type": "code",
   "execution_count": 13,
   "id": "a6ead61f",
   "metadata": {},
   "outputs": [
    {
     "data": {
      "text/plain": [
       "{1, 2, 3, 4, 5, 6, 7, 8, 43}"
      ]
     },
     "execution_count": 13,
     "metadata": {},
     "output_type": "execute_result"
    }
   ],
   "source": [
    "set_test"
   ]
  },
  {
   "cell_type": "code",
   "execution_count": 16,
   "id": "7db44483",
   "metadata": {},
   "outputs": [
    {
     "data": {
      "text/plain": [
       "[100, 576, 1156, 2916, 625, 961]"
      ]
     },
     "execution_count": 16,
     "metadata": {},
     "output_type": "execute_result"
    }
   ],
   "source": [
    "list(map(lambda x : x ** 2,lst))"
   ]
  },
  {
   "cell_type": "code",
   "execution_count": 19,
   "id": "72dc4ffd",
   "metadata": {},
   "outputs": [
    {
     "data": {
      "text/plain": [
       "[10, 24, 34, 54]"
      ]
     },
     "execution_count": 19,
     "metadata": {},
     "output_type": "execute_result"
    }
   ],
   "source": [
    "list(filter(lambda x : x % 2 == 0, lst))"
   ]
  },
  {
   "cell_type": "code",
   "execution_count": 20,
   "id": "adea985f",
   "metadata": {},
   "outputs": [],
   "source": [
    "dict = {'a': [1,2,3,4],'b' : [10,11,12,13]}"
   ]
  },
  {
   "cell_type": "code",
   "execution_count": 22,
   "id": "82bf96a0",
   "metadata": {},
   "outputs": [
    {
     "name": "stdout",
     "output_type": "stream",
     "text": [
      "dict_keys(['a', 'b'])\n"
     ]
    }
   ],
   "source": [
    "print(dict.keys())"
   ]
  },
  {
   "cell_type": "code",
   "execution_count": 23,
   "id": "662bf742",
   "metadata": {},
   "outputs": [
    {
     "name": "stdout",
     "output_type": "stream",
     "text": [
      "a\n",
      "[1, 2, 3, 4]\n",
      "b\n",
      "[10, 11, 12, 13]\n"
     ]
    }
   ],
   "source": [
    "for i,j in dict.items():\n",
    "    print(i) \n",
    "    print(j)"
   ]
  },
  {
   "cell_type": "markdown",
   "id": "e611652d",
   "metadata": {},
   "source": [
    "### Python Lists, Strings and Boolean Operations (04-Jan-2024)"
   ]
  },
  {
   "cell_type": "code",
   "execution_count": 26,
   "id": "788b3377",
   "metadata": {},
   "outputs": [],
   "source": [
    "new_lst = [10,10,20,30,\"Mr.Bean\",\"Electrical Engineer\"]"
   ]
  },
  {
   "cell_type": "code",
   "execution_count": 27,
   "id": "3bd16c16",
   "metadata": {},
   "outputs": [
    {
     "name": "stdout",
     "output_type": "stream",
     "text": [
      "[10, 10, 20, 30, 'Mr.Bean', 'Electrical Engineer']\n"
     ]
    }
   ],
   "source": [
    "print(new_lst)"
   ]
  },
  {
   "cell_type": "code",
   "execution_count": 28,
   "id": "781bd9e8",
   "metadata": {},
   "outputs": [
    {
     "data": {
      "text/plain": [
       "2"
      ]
     },
     "execution_count": 28,
     "metadata": {},
     "output_type": "execute_result"
    }
   ],
   "source": [
    "new_lst.count(10)"
   ]
  },
  {
   "cell_type": "code",
   "execution_count": 30,
   "id": "2c453a8a",
   "metadata": {},
   "outputs": [],
   "source": [
    "test_lst = [20,40,60,40,50,30,120]"
   ]
  },
  {
   "cell_type": "code",
   "execution_count": 31,
   "id": "9678633c",
   "metadata": {},
   "outputs": [
    {
     "data": {
      "text/plain": [
       "120"
      ]
     },
     "execution_count": 31,
     "metadata": {},
     "output_type": "execute_result"
    }
   ],
   "source": [
    "max(test_lst)"
   ]
  },
  {
   "cell_type": "code",
   "execution_count": 32,
   "id": "ae37f1cb",
   "metadata": {},
   "outputs": [
    {
     "data": {
      "text/plain": [
       "20"
      ]
     },
     "execution_count": 32,
     "metadata": {},
     "output_type": "execute_result"
    }
   ],
   "source": [
    "min(test_lst)"
   ]
  },
  {
   "cell_type": "code",
   "execution_count": 33,
   "id": "1852d8d1",
   "metadata": {},
   "outputs": [],
   "source": [
    "new_lst.extend(test_lst)"
   ]
  },
  {
   "cell_type": "code",
   "execution_count": 34,
   "id": "9c53d5ef",
   "metadata": {},
   "outputs": [
    {
     "data": {
      "text/plain": [
       "[10, 10, 20, 30, 'Mr.Bean', 'Electrical Engineer', 20, 40, 60, 40, 50, 30, 120]"
      ]
     },
     "execution_count": 34,
     "metadata": {},
     "output_type": "execute_result"
    }
   ],
   "source": [
    "new_lst"
   ]
  },
  {
   "cell_type": "code",
   "execution_count": 35,
   "id": "5f64d768",
   "metadata": {},
   "outputs": [
    {
     "data": {
      "text/plain": [
       "'Electrical Engineer'"
      ]
     },
     "execution_count": 35,
     "metadata": {},
     "output_type": "execute_result"
    }
   ],
   "source": [
    "new_lst.pop(5)"
   ]
  },
  {
   "cell_type": "code",
   "execution_count": 36,
   "id": "89fa584b",
   "metadata": {},
   "outputs": [
    {
     "data": {
      "text/plain": [
       "[10, 10, 20, 30, 'Mr.Bean', 20, 40, 60, 40, 50, 30, 120]"
      ]
     },
     "execution_count": 36,
     "metadata": {},
     "output_type": "execute_result"
    }
   ],
   "source": [
    "new_lst"
   ]
  },
  {
   "cell_type": "code",
   "execution_count": 37,
   "id": "ca4eb955",
   "metadata": {},
   "outputs": [],
   "source": [
    "new_lst.remove(10)"
   ]
  },
  {
   "cell_type": "code",
   "execution_count": 38,
   "id": "8cbc8a95",
   "metadata": {},
   "outputs": [
    {
     "data": {
      "text/plain": [
       "[10, 20, 30, 'Mr.Bean', 20, 40, 60, 40, 50, 30, 120]"
      ]
     },
     "execution_count": 38,
     "metadata": {},
     "output_type": "execute_result"
    }
   ],
   "source": [
    "new_lst"
   ]
  },
  {
   "cell_type": "code",
   "execution_count": 40,
   "id": "f230bd46",
   "metadata": {},
   "outputs": [
    {
     "data": {
      "text/plain": [
       "5"
      ]
     },
     "execution_count": 40,
     "metadata": {},
     "output_type": "execute_result"
    }
   ],
   "source": [
    "test_lst.index(30,1,6)"
   ]
  },
  {
   "cell_type": "code",
   "execution_count": 41,
   "id": "cc9e5cdd",
   "metadata": {},
   "outputs": [],
   "source": [
    "test_lst.insert(1,540)"
   ]
  },
  {
   "cell_type": "code",
   "execution_count": 47,
   "id": "690826d0",
   "metadata": {},
   "outputs": [],
   "source": [
    "test_lst.append(733)"
   ]
  },
  {
   "cell_type": "code",
   "execution_count": 42,
   "id": "69c57db8",
   "metadata": {},
   "outputs": [
    {
     "data": {
      "text/plain": [
       "[20, 540, 40, 60, 40, 50, 30, 120]"
      ]
     },
     "execution_count": 42,
     "metadata": {},
     "output_type": "execute_result"
    }
   ],
   "source": [
    "test_lst"
   ]
  },
  {
   "cell_type": "code",
   "execution_count": 43,
   "id": "677f0801",
   "metadata": {},
   "outputs": [
    {
     "data": {
      "text/plain": [
       "[400, 291600, 1600, 3600, 1600, 2500, 900, 14400]"
      ]
     },
     "execution_count": 43,
     "metadata": {},
     "output_type": "execute_result"
    }
   ],
   "source": [
    "[i**2 for i in test_lst]"
   ]
  },
  {
   "cell_type": "code",
   "execution_count": 48,
   "id": "2deb9afc",
   "metadata": {},
   "outputs": [
    {
     "data": {
      "text/plain": [
       "[400, 291600, 1600, 3600, 1600, 2500, 900, 14400, 535824]"
      ]
     },
     "execution_count": 48,
     "metadata": {},
     "output_type": "execute_result"
    }
   ],
   "source": [
    "[i**2 for i in test_lst if i % 2 == 0]"
   ]
  },
  {
   "cell_type": "code",
   "execution_count": null,
   "id": "7102bdde",
   "metadata": {},
   "outputs": [],
   "source": []
  }
 ],
 "metadata": {
  "kernelspec": {
   "display_name": "Python 3",
   "language": "python",
   "name": "python3"
  },
  "language_info": {
   "codemirror_mode": {
    "name": "ipython",
    "version": 3
   },
   "file_extension": ".py",
   "mimetype": "text/x-python",
   "name": "python",
   "nbconvert_exporter": "python",
   "pygments_lexer": "ipython3",
   "version": "3.8.8"
  }
 },
 "nbformat": 4,
 "nbformat_minor": 5
}
