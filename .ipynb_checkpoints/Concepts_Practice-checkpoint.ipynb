{
 "cells": [
  {
   "cell_type": "markdown",
   "id": "4a500e99",
   "metadata": {},
   "source": [
    "### Python Data Structures and Boolean\n",
    "\n",
    "Boolean\n",
    "Boolean and Logical Operators\n",
    "Lists\n",
    "Comparison Operators\n",
    "Dictionaries\n",
    "Tuples\n",
    "Sets"
   ]
  },
  {
   "cell_type": "code",
   "execution_count": 1,
   "id": "89d30365",
   "metadata": {},
   "outputs": [],
   "source": [
    "bo_boolean = True"
   ]
  },
  {
   "cell_type": "code",
   "execution_count": 2,
   "id": "ab8b0511",
   "metadata": {},
   "outputs": [
    {
     "name": "stdout",
     "output_type": "stream",
     "text": [
      "True\n"
     ]
    }
   ],
   "source": [
    "print(bo_boolean)"
   ]
  },
  {
   "cell_type": "code",
   "execution_count": 3,
   "id": "b6083e14",
   "metadata": {},
   "outputs": [],
   "source": [
    "lst = [10,24,34,54,25,31]"
   ]
  },
  {
   "cell_type": "code",
   "execution_count": 5,
   "id": "7b14ea05",
   "metadata": {},
   "outputs": [],
   "source": [
    "lst_string = ['The','Boolean','Value']"
   ]
  },
  {
   "cell_type": "code",
   "execution_count": 6,
   "id": "2a1dedfd",
   "metadata": {},
   "outputs": [],
   "source": [
    "string = ''.join(lst_string)"
   ]
  },
  {
   "cell_type": "code",
   "execution_count": 7,
   "id": "9d7fd9bf",
   "metadata": {},
   "outputs": [
    {
     "name": "stdout",
     "output_type": "stream",
     "text": [
      "TheBooleanValue\n"
     ]
    }
   ],
   "source": [
    "print(string)"
   ]
  },
  {
   "cell_type": "code",
   "execution_count": 8,
   "id": "2ea934de",
   "metadata": {},
   "outputs": [],
   "source": [
    "con_numbers = ''.join(str(lst))"
   ]
  },
  {
   "cell_type": "code",
   "execution_count": 9,
   "id": "92656418",
   "metadata": {},
   "outputs": [
    {
     "name": "stdout",
     "output_type": "stream",
     "text": [
      "[10, 24, 34, 54, 25, 31]\n"
     ]
    }
   ],
   "source": [
    "print(con_numbers)"
   ]
  },
  {
   "cell_type": "code",
   "execution_count": 10,
   "id": "23b6bee5",
   "metadata": {},
   "outputs": [],
   "source": [
    "lst_string.append('Sharing')"
   ]
  },
  {
   "cell_type": "code",
   "execution_count": 11,
   "id": "89b96e7c",
   "metadata": {},
   "outputs": [
    {
     "data": {
      "text/plain": [
       "['The', 'Boolean', 'Value', 'Sharing']"
      ]
     },
     "execution_count": 11,
     "metadata": {},
     "output_type": "execute_result"
    }
   ],
   "source": [
    "lst_string"
   ]
  },
  {
   "cell_type": "code",
   "execution_count": 12,
   "id": "8a04e5f9",
   "metadata": {},
   "outputs": [],
   "source": [
    "set_test = set({1,1,2,2,3,3,3,3,3,4,4,4,5,5,5,6,6,7,8,7,6,5,43,2})"
   ]
  },
  {
   "cell_type": "code",
   "execution_count": 13,
   "id": "7adb7eda",
   "metadata": {},
   "outputs": [
    {
     "data": {
      "text/plain": [
       "{1, 2, 3, 4, 5, 6, 7, 8, 43}"
      ]
     },
     "execution_count": 13,
     "metadata": {},
     "output_type": "execute_result"
    }
   ],
   "source": [
    "set_test"
   ]
  },
  {
   "cell_type": "code",
   "execution_count": 16,
   "id": "d0af3d52",
   "metadata": {},
   "outputs": [
    {
     "data": {
      "text/plain": [
       "[100, 576, 1156, 2916, 625, 961]"
      ]
     },
     "execution_count": 16,
     "metadata": {},
     "output_type": "execute_result"
    }
   ],
   "source": [
    "list(map(lambda x : x ** 2,lst))"
   ]
  },
  {
   "cell_type": "code",
   "execution_count": 19,
   "id": "7db1f79d",
   "metadata": {},
   "outputs": [
    {
     "data": {
      "text/plain": [
       "[10, 24, 34, 54]"
      ]
     },
     "execution_count": 19,
     "metadata": {},
     "output_type": "execute_result"
    }
   ],
   "source": [
    "list(filter(lambda x : x % 2 == 0, lst))"
   ]
  },
  {
   "cell_type": "code",
   "execution_count": null,
   "id": "106e0919",
   "metadata": {},
   "outputs": [],
   "source": []
  }
 ],
 "metadata": {
  "kernelspec": {
   "display_name": "Python 3",
   "language": "python",
   "name": "python3"
  },
  "language_info": {
   "codemirror_mode": {
    "name": "ipython",
    "version": 3
   },
   "file_extension": ".py",
   "mimetype": "text/x-python",
   "name": "python",
   "nbconvert_exporter": "python",
   "pygments_lexer": "ipython3",
   "version": "3.8.8"
  }
 },
 "nbformat": 4,
 "nbformat_minor": 5
}
