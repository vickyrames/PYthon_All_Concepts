{
 "cells": [
  {
   "cell_type": "code",
   "execution_count": 15,
   "id": "5875af32",
   "metadata": {},
   "outputs": [],
   "source": [
    "## Object Oriented Programming Part 1"
   ]
  },
  {
   "cell_type": "code",
   "execution_count": 1,
   "id": "69e71dd4",
   "metadata": {},
   "outputs": [],
   "source": [
    "class Simple():\n",
    "    pass"
   ]
  },
  {
   "cell_type": "code",
   "execution_count": null,
   "id": "6c53757d",
   "metadata": {},
   "outputs": [],
   "source": []
  },
  {
   "cell_type": "code",
   "execution_count": 2,
   "id": "4bc9eb3e",
   "metadata": {},
   "outputs": [],
   "source": [
    "my_simple = Simple()"
   ]
  },
  {
   "cell_type": "code",
   "execution_count": 3,
   "id": "fd636629",
   "metadata": {},
   "outputs": [
    {
     "data": {
      "text/plain": [
       "__main__.Simple"
      ]
     },
     "execution_count": 3,
     "metadata": {},
     "output_type": "execute_result"
    }
   ],
   "source": [
    "type(my_simple)"
   ]
  },
  {
   "cell_type": "code",
   "execution_count": 10,
   "id": "cdfce0b8",
   "metadata": {},
   "outputs": [],
   "source": [
    "class ClassRoom():\n",
    "    \n",
    "    def __init__(self,callStudents,callTeachers,strength):\n",
    "        \n",
    "        self.Students = callStudents\n",
    "        self.Teachers = callTeachers\n",
    "        self.Strenght = strength"
   ]
  },
  {
   "cell_type": "code",
   "execution_count": 14,
   "id": "45dec515",
   "metadata": {},
   "outputs": [],
   "source": [
    "myClassroom = ClassRoom(callStudents=\"Students\",callTeachers= \"Teachers\",strength=40)"
   ]
  },
  {
   "cell_type": "code",
   "execution_count": 7,
   "id": "9fc48e9c",
   "metadata": {},
   "outputs": [
    {
     "data": {
      "text/plain": [
       "'Students'"
      ]
     },
     "execution_count": 7,
     "metadata": {},
     "output_type": "execute_result"
    }
   ],
   "source": [
    "myClassroom.Students"
   ]
  },
  {
   "cell_type": "code",
   "execution_count": 8,
   "id": "990ed183",
   "metadata": {},
   "outputs": [
    {
     "data": {
      "text/plain": [
       "'Teachers'"
      ]
     },
     "execution_count": 8,
     "metadata": {},
     "output_type": "execute_result"
    }
   ],
   "source": [
    "myClassroom.Teachers"
   ]
  },
  {
   "cell_type": "code",
   "execution_count": 13,
   "id": "2a2ca551",
   "metadata": {},
   "outputs": [
    {
     "data": {
      "text/plain": [
       "int"
      ]
     },
     "execution_count": 13,
     "metadata": {},
     "output_type": "execute_result"
    }
   ],
   "source": [
    "type(myClassroom.Strenght)"
   ]
  },
  {
   "cell_type": "code",
   "execution_count": 16,
   "id": "bef21a06",
   "metadata": {},
   "outputs": [],
   "source": [
    "## Object Oriented Programming Part 2"
   ]
  },
  {
   "cell_type": "code",
   "execution_count": 17,
   "id": "d1d1bf56",
   "metadata": {},
   "outputs": [],
   "source": [
    "class ClassRoom_clr():\n",
    "    # Classs Object Attribute\n",
    "    Institution = 'school'\n",
    "    def __init__(self,callStudents,callTeachers,strength):\n",
    "        \n",
    "        self.Students = callStudents\n",
    "        self.Teachers = callTeachers\n",
    "        self.Strenght = strength"
   ]
  },
  {
   "cell_type": "code",
   "execution_count": 18,
   "id": "b2d76d9b",
   "metadata": {},
   "outputs": [],
   "source": [
    "myclass = ClassRoom_clr('Stud','Teacher',80)"
   ]
  },
  {
   "cell_type": "code",
   "execution_count": 19,
   "id": "bd6012e3",
   "metadata": {},
   "outputs": [
    {
     "data": {
      "text/plain": [
       "'school'"
      ]
     },
     "execution_count": 19,
     "metadata": {},
     "output_type": "execute_result"
    }
   ],
   "source": [
    "myclass.Institution"
   ]
  },
  {
   "cell_type": "code",
   "execution_count": 28,
   "id": "87ad03c8",
   "metadata": {},
   "outputs": [],
   "source": [
    "class ClassRoom_clr_CLR():\n",
    "    \n",
    "    def __init__(self,callStudents,callTeachers):\n",
    "        \n",
    "        self.Students = callStudents\n",
    "        self.Teachers = callTeachers\n",
    "    \n",
    "    #Methods inside a class\n",
    "    def DoHomeWork(self):\n",
    "        print(\"The {} instructed the {} to complete the home work\".format(self.Teachers,self.Students))\n",
    "        \n",
    "    def DoCheckCourse(self,number):\n",
    "        print(\"The course I signed up for is {} and the duration is {} minutes\".format('Mathematics',number))"
   ]
  },
  {
   "cell_type": "code",
   "execution_count": 30,
   "id": "c0cec8e1",
   "metadata": {},
   "outputs": [],
   "source": [
    "myclr_CLR = ClassRoom_clr_CLR('Students', 'Teacher')"
   ]
  },
  {
   "cell_type": "code",
   "execution_count": 24,
   "id": "2a1e8d85",
   "metadata": {},
   "outputs": [
    {
     "name": "stdout",
     "output_type": "stream",
     "text": [
      "The Teacher instructed the Students to complete the home work\n"
     ]
    }
   ],
   "source": [
    "myclr_CLR.DoHomeWork()"
   ]
  },
  {
   "cell_type": "code",
   "execution_count": 31,
   "id": "9df6bbac",
   "metadata": {},
   "outputs": [
    {
     "name": "stdout",
     "output_type": "stream",
     "text": [
      "The course I signed up for is Mathematics and the duration is 90 minutes\n"
     ]
    }
   ],
   "source": [
    "myclr_CLR.DoCheckCourse(90)"
   ]
  },
  {
   "cell_type": "code",
   "execution_count": 44,
   "id": "35c1c64d",
   "metadata": {},
   "outputs": [],
   "source": [
    "class Circle():\n",
    "    \n",
    "    # CLASS ATTRIBUTE\n",
    "    pi = 3.14\n",
    "    \n",
    "    def __init__(self, radius = 2):\n",
    "        self.radius = radius\n",
    "        self.area = Circle.pi * radius**2\n",
    "        \n",
    "    def circumference(self):\n",
    "        ci = 2 * Circle.pi * self.radius\n",
    "        print(\"The circumference of a circle is : {}\".format(round(ci,2)))"
   ]
  },
  {
   "cell_type": "code",
   "execution_count": 45,
   "id": "01ea9870",
   "metadata": {},
   "outputs": [],
   "source": [
    "myCircle = Circle(20)"
   ]
  },
  {
   "cell_type": "code",
   "execution_count": 36,
   "id": "a5ab7134",
   "metadata": {},
   "outputs": [
    {
     "data": {
      "text/plain": [
       "1256.0"
      ]
     },
     "execution_count": 36,
     "metadata": {},
     "output_type": "execute_result"
    }
   ],
   "source": [
    "myCircle.area"
   ]
  },
  {
   "cell_type": "code",
   "execution_count": 37,
   "id": "0fec3472",
   "metadata": {},
   "outputs": [
    {
     "data": {
      "text/plain": [
       "3.14"
      ]
     },
     "execution_count": 37,
     "metadata": {},
     "output_type": "execute_result"
    }
   ],
   "source": [
    "myCircle.pi"
   ]
  },
  {
   "cell_type": "code",
   "execution_count": 38,
   "id": "5a3278e3",
   "metadata": {},
   "outputs": [
    {
     "data": {
      "text/plain": [
       "20"
      ]
     },
     "execution_count": 38,
     "metadata": {},
     "output_type": "execute_result"
    }
   ],
   "source": [
    "myCircle.radius"
   ]
  },
  {
   "cell_type": "code",
   "execution_count": 46,
   "id": "22d9dcc4",
   "metadata": {},
   "outputs": [
    {
     "name": "stdout",
     "output_type": "stream",
     "text": [
      "The circumference of a circle is : 125.6\n"
     ]
    }
   ],
   "source": [
    "myCircle.circumference()"
   ]
  },
  {
   "cell_type": "code",
   "execution_count": 47,
   "id": "286e594f",
   "metadata": {},
   "outputs": [],
   "source": [
    "## OOPS Part 3 Inheritance and Polymorphism"
   ]
  },
  {
   "cell_type": "code",
   "execution_count": 48,
   "id": "36638a0e",
   "metadata": {},
   "outputs": [],
   "source": [
    "## Inheritance"
   ]
  },
  {
   "cell_type": "code",
   "execution_count": 54,
   "id": "af47565d",
   "metadata": {},
   "outputs": [],
   "source": [
    "class Animal():\n",
    "    \n",
    "    def __init__(self,name):\n",
    "        self.name = name\n",
    "        \n",
    "    def who_am_I(self):\n",
    "        print(\"I am an animal\")\n",
    "    \n",
    "    def what_I_Eat(self):\n",
    "        print(\"I eat biscuit\")"
   ]
  },
  {
   "cell_type": "code",
   "execution_count": 64,
   "id": "2368716f",
   "metadata": {},
   "outputs": [],
   "source": [
    "class Dog(Animal):\n",
    "    \n",
    "    def __init__(self,name):\n",
    "        self.name = name \n",
    "        \n",
    "    def what_I_sound_like(self):\n",
    "        print(\"I bark like bow ! bow !\")"
   ]
  },
  {
   "cell_type": "code",
   "execution_count": 65,
   "id": "5bf17c22",
   "metadata": {},
   "outputs": [],
   "source": [
    "my_Dog = Dog(\"Ponti !\")"
   ]
  },
  {
   "cell_type": "code",
   "execution_count": 59,
   "id": "496cf6da",
   "metadata": {},
   "outputs": [
    {
     "name": "stdout",
     "output_type": "stream",
     "text": [
      "I eat biscuit\n"
     ]
    }
   ],
   "source": [
    "my_Dog.what_I_Eat()"
   ]
  },
  {
   "cell_type": "code",
   "execution_count": 60,
   "id": "45f27745",
   "metadata": {},
   "outputs": [
    {
     "data": {
      "text/plain": [
       "'Ponti !'"
      ]
     },
     "execution_count": 60,
     "metadata": {},
     "output_type": "execute_result"
    }
   ],
   "source": [
    "my_Dog.name"
   ]
  },
  {
   "cell_type": "code",
   "execution_count": 66,
   "id": "62e153a6",
   "metadata": {},
   "outputs": [
    {
     "name": "stdout",
     "output_type": "stream",
     "text": [
      "I bark like bow ! bow !\n"
     ]
    }
   ],
   "source": [
    "my_Dog.what_I_sound_like()"
   ]
  },
  {
   "cell_type": "code",
   "execution_count": null,
   "id": "1f48a3c6",
   "metadata": {},
   "outputs": [],
   "source": []
  }
 ],
 "metadata": {
  "kernelspec": {
   "display_name": "Python 3",
   "language": "python",
   "name": "python3"
  },
  "language_info": {
   "codemirror_mode": {
    "name": "ipython",
    "version": 3
   },
   "file_extension": ".py",
   "mimetype": "text/x-python",
   "name": "python",
   "nbconvert_exporter": "python",
   "pygments_lexer": "ipython3",
   "version": "3.8.8"
  }
 },
 "nbformat": 4,
 "nbformat_minor": 5
}
