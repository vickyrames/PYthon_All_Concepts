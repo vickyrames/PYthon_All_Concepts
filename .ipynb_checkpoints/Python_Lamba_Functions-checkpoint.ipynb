{
 "cells": [
  {
   "cell_type": "code",
   "execution_count": 1,
   "id": "d5a8162f",
   "metadata": {},
   "outputs": [],
   "source": [
    "def square(num):\n",
    "    return num ** 2"
   ]
  },
  {
   "cell_type": "code",
   "execution_count": 2,
   "id": "64c44b6e",
   "metadata": {},
   "outputs": [],
   "source": [
    "mylist = [ 12,14,15,18,20,22,25]"
   ]
  },
  {
   "cell_type": "code",
   "execution_count": 3,
   "id": "e0a874f5",
   "metadata": {},
   "outputs": [
    {
     "name": "stdout",
     "output_type": "stream",
     "text": [
      "144\n",
      "196\n",
      "225\n",
      "324\n",
      "400\n",
      "484\n",
      "625\n"
     ]
    }
   ],
   "source": [
    "for x in map(square,mylist):\n",
    "    print(x)"
   ]
  },
  {
   "cell_type": "code",
   "execution_count": 4,
   "id": "9a72e893",
   "metadata": {},
   "outputs": [
    {
     "data": {
      "text/plain": [
       "[144, 196, 225, 324, 400, 484, 625]"
      ]
     },
     "execution_count": 4,
     "metadata": {},
     "output_type": "execute_result"
    }
   ],
   "source": [
    "list(map(square,mylist))"
   ]
  },
  {
   "cell_type": "code",
   "execution_count": 5,
   "id": "6f22f380",
   "metadata": {},
   "outputs": [],
   "source": [
    "def check_even(num):\n",
    "    return num%2 == 0"
   ]
  },
  {
   "cell_type": "code",
   "execution_count": 7,
   "id": "2b612f66",
   "metadata": {},
   "outputs": [
    {
     "name": "stdout",
     "output_type": "stream",
     "text": [
      "12\n",
      "14\n",
      "18\n",
      "20\n",
      "22\n"
     ]
    }
   ],
   "source": [
    "for x in filter(check_even,mylist):\n",
    "    print(x)"
   ]
  },
  {
   "cell_type": "code",
   "execution_count": 8,
   "id": "286a5df0",
   "metadata": {},
   "outputs": [
    {
     "data": {
      "text/plain": [
       "[12, 14, 18, 20, 22]"
      ]
     },
     "execution_count": 8,
     "metadata": {},
     "output_type": "execute_result"
    }
   ],
   "source": [
    "list(filter(check_even,mylist))"
   ]
  },
  {
   "cell_type": "code",
   "execution_count": 9,
   "id": "0fb1a22c",
   "metadata": {},
   "outputs": [
    {
     "data": {
      "text/plain": [
       "[144, 196, 225, 324, 400, 484, 625]"
      ]
     },
     "execution_count": 9,
     "metadata": {},
     "output_type": "execute_result"
    }
   ],
   "source": [
    "list(map(lambda y:y ** 2,mylist))"
   ]
  },
  {
   "cell_type": "code",
   "execution_count": 10,
   "id": "6f783945",
   "metadata": {},
   "outputs": [
    {
     "data": {
      "text/plain": [
       "[12, 14, 18, 20, 22]"
      ]
     },
     "execution_count": 10,
     "metadata": {},
     "output_type": "execute_result"
    }
   ],
   "source": [
    "list(filter(lambda i: i % 2 == 0, mylist))"
   ]
  },
  {
   "cell_type": "code",
   "execution_count": 15,
   "id": "4beb2914",
   "metadata": {},
   "outputs": [],
   "source": [
    "def chk_args(*args):\n",
    "    return sum(args)"
   ]
  },
  {
   "cell_type": "code",
   "execution_count": 16,
   "id": "1a34ddd0",
   "metadata": {},
   "outputs": [
    {
     "data": {
      "text/plain": [
       "37"
      ]
     },
     "execution_count": 16,
     "metadata": {},
     "output_type": "execute_result"
    }
   ],
   "source": [
    "chk_args(10,12,15)"
   ]
  },
  {
   "cell_type": "code",
   "execution_count": 17,
   "id": "9ee0aa8b",
   "metadata": {},
   "outputs": [],
   "source": [
    "def chk_kwargs(**kwargs):\n",
    "    return kwargs"
   ]
  },
  {
   "cell_type": "code",
   "execution_count": 21,
   "id": "68d8f45d",
   "metadata": {},
   "outputs": [
    {
     "data": {
      "text/plain": [
       "{'a': 'India', 'b': 'Japan'}"
      ]
     },
     "execution_count": 21,
     "metadata": {},
     "output_type": "execute_result"
    }
   ],
   "source": [
    "chk_kwargs(a='India',b = 'Japan')"
   ]
  },
  {
   "cell_type": "code",
   "execution_count": null,
   "id": "8d219777",
   "metadata": {},
   "outputs": [],
   "source": []
  }
 ],
 "metadata": {
  "kernelspec": {
   "display_name": "Python 3",
   "language": "python",
   "name": "python3"
  },
  "language_info": {
   "codemirror_mode": {
    "name": "ipython",
    "version": 3
   },
   "file_extension": ".py",
   "mimetype": "text/x-python",
   "name": "python",
   "nbconvert_exporter": "python",
   "pygments_lexer": "ipython3",
   "version": "3.8.8"
  }
 },
 "nbformat": 4,
 "nbformat_minor": 5
}
