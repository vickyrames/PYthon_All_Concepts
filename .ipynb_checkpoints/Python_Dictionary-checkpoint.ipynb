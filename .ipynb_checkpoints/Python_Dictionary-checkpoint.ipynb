{
 "cells": [
  {
   "cell_type": "code",
   "execution_count": 1,
   "id": "e8655def",
   "metadata": {},
   "outputs": [],
   "source": [
    "#Dictionary Concepts"
   ]
  },
  {
   "cell_type": "code",
   "execution_count": 2,
   "id": "0ebd1fc6",
   "metadata": {},
   "outputs": [],
   "source": [
    "# Write a program to display Dictionary"
   ]
  },
  {
   "cell_type": "code",
   "execution_count": 3,
   "id": "003a5271",
   "metadata": {},
   "outputs": [
    {
     "name": "stdout",
     "output_type": "stream",
     "text": [
      "{'Name': 'Vignesh', 'Age': '27', 'DOB': '24-03-1996'}\n"
     ]
    }
   ],
   "source": [
    "dict = { \n",
    "  \"Name\" : \"Vignesh\",\n",
    "  \"Age\"  : \"27\",\n",
    "   \"DOB\" : \"24-03-1996\"\n",
    "}\n",
    "\n",
    "print(dict)"
   ]
  },
  {
   "cell_type": "code",
   "execution_count": 4,
   "id": "091b59b1",
   "metadata": {},
   "outputs": [
    {
     "data": {
      "text/plain": [
       "dict_keys(['Name', 'Age', 'DOB'])"
      ]
     },
     "execution_count": 4,
     "metadata": {},
     "output_type": "execute_result"
    }
   ],
   "source": [
    "dict.keys()"
   ]
  },
  {
   "cell_type": "code",
   "execution_count": 6,
   "id": "17692351",
   "metadata": {},
   "outputs": [
    {
     "data": {
      "text/plain": [
       "'Vignesh'"
      ]
     },
     "execution_count": 6,
     "metadata": {},
     "output_type": "execute_result"
    }
   ],
   "source": [
    "dict['Name']"
   ]
  },
  {
   "cell_type": "code",
   "execution_count": 7,
   "id": "2c9e47b0",
   "metadata": {},
   "outputs": [
    {
     "data": {
      "text/plain": [
       "'Vignesh'"
      ]
     },
     "execution_count": 7,
     "metadata": {},
     "output_type": "execute_result"
    }
   ],
   "source": [
    "dict.get('Name')"
   ]
  },
  {
   "cell_type": "code",
   "execution_count": 9,
   "id": "4ea91065",
   "metadata": {},
   "outputs": [
    {
     "name": "stdout",
     "output_type": "stream",
     "text": [
      "Vignesh   27   24-03-1996   "
     ]
    }
   ],
   "source": [
    "for i in dict.keys():\n",
    "    print(dict.get(i),'{}'.format('  '),end=\"\")"
   ]
  },
  {
   "cell_type": "code",
   "execution_count": 11,
   "id": "85df7b70",
   "metadata": {},
   "outputs": [
    {
     "data": {
      "text/plain": [
       "dict_items([('Name', 'Vignesh'), ('Age', '27'), ('DOB', '24-03-1996')])"
      ]
     },
     "execution_count": 11,
     "metadata": {},
     "output_type": "execute_result"
    }
   ],
   "source": [
    "dict.items()"
   ]
  },
  {
   "cell_type": "code",
   "execution_count": 12,
   "id": "95621e7a",
   "metadata": {},
   "outputs": [],
   "source": [
    "dict.update({'Name':'Vicky'})"
   ]
  },
  {
   "cell_type": "code",
   "execution_count": 13,
   "id": "9a3a06ac",
   "metadata": {},
   "outputs": [
    {
     "data": {
      "text/plain": [
       "dict_items([('Name', 'Vicky'), ('Age', '27'), ('DOB', '24-03-1996')])"
      ]
     },
     "execution_count": 13,
     "metadata": {},
     "output_type": "execute_result"
    }
   ],
   "source": [
    "dict.items()"
   ]
  },
  {
   "cell_type": "code",
   "execution_count": 14,
   "id": "03c9a82e",
   "metadata": {},
   "outputs": [],
   "source": [
    "total_population = {\n",
    "    'China' : 143,\n",
    "    'India' : 136,\n",
    "    'USA' : 32,\n",
    "    'Pakistan' : 21\n",
    "}\n"
   ]
  },
  {
   "cell_type": "code",
   "execution_count": 15,
   "id": "8200fe0b",
   "metadata": {},
   "outputs": [
    {
     "name": "stdout",
     "output_type": "stream",
     "text": [
      "China ==>143\n",
      "India ==>136\n",
      "USA ==>32\n",
      "Pakistan ==>21\n"
     ]
    }
   ],
   "source": [
    "for i in total_population.keys():\n",
    "    print(i,'{}{}'.format('==>',total_population.get(i)))"
   ]
  },
  {
   "cell_type": "code",
   "execution_count": 18,
   "id": "6f3e688a",
   "metadata": {},
   "outputs": [
    {
     "name": "stdout",
     "output_type": "stream",
     "text": [
      "Operation to be performedADD\n",
      "Please Enter the country to be addedGermany\n",
      "Please Enter the Population1000\n",
      "{'China': 143, 'India': 136, 'USA': 32, 'Pakistan': 21, 'Germany': '1000'}\n"
     ]
    }
   ],
   "source": [
    "x = input(\"Operation to be performed\")\n",
    "\n",
    "if x == \"ADD\":\n",
    "    y = input(\"Please Enter the country to be added\")\n",
    "    z = input(\"Please Enter the Population\")\n",
    "    if y in total_population:\n",
    "        print('Already Exists')\n",
    "    else:\n",
    "        total_population[y] = z\n",
    "\n",
    "print(total_population)"
   ]
  },
  {
   "cell_type": "code",
   "execution_count": null,
   "id": "d7f2880f",
   "metadata": {},
   "outputs": [],
   "source": []
  }
 ],
 "metadata": {
  "kernelspec": {
   "display_name": "Python 3",
   "language": "python",
   "name": "python3"
  },
  "language_info": {
   "codemirror_mode": {
    "name": "ipython",
    "version": 3
   },
   "file_extension": ".py",
   "mimetype": "text/x-python",
   "name": "python",
   "nbconvert_exporter": "python",
   "pygments_lexer": "ipython3",
   "version": "3.8.8"
  }
 },
 "nbformat": 4,
 "nbformat_minor": 5
}
