{
 "cells": [
  {
   "cell_type": "code",
   "execution_count": 1,
   "id": "250e8aae",
   "metadata": {},
   "outputs": [
    {
     "name": "stdout",
     "output_type": "stream",
     "text": [
      "15\n",
      "50\n",
      "0.5\n",
      "-5\n"
     ]
    }
   ],
   "source": [
    "A = 5 ; \n",
    "B = 10 ;\n",
    "print(A+B);\n",
    "print(A*B);\n",
    "print(A/B);\n",
    "print(A-B);"
   ]
  },
  {
   "cell_type": "code",
   "execution_count": 1,
   "id": "b6bd6f35",
   "metadata": {},
   "outputs": [],
   "source": [
    "dist = 89\n",
    "time = 5\n",
    "speed = dist / time"
   ]
  },
  {
   "cell_type": "code",
   "execution_count": 2,
   "id": "f8d01e35",
   "metadata": {},
   "outputs": [
    {
     "data": {
      "text/plain": [
       "17.8"
      ]
     },
     "execution_count": 2,
     "metadata": {},
     "output_type": "execute_result"
    }
   ],
   "source": [
    "speed"
   ]
  },
  {
   "cell_type": "code",
   "execution_count": 3,
   "id": "6a23540a",
   "metadata": {},
   "outputs": [
    {
     "data": {
      "text/plain": [
       "12.732842000000002"
      ]
     },
     "execution_count": 3,
     "metadata": {},
     "output_type": "execute_result"
    }
   ],
   "source": [
    "speed * 0.26589 + 8"
   ]
  },
  {
   "cell_type": "code",
   "execution_count": 4,
   "id": "bc664f7f",
   "metadata": {},
   "outputs": [
    {
     "data": {
      "text/plain": [
       "17.8"
      ]
     },
     "execution_count": 4,
     "metadata": {},
     "output_type": "execute_result"
    }
   ],
   "source": [
    "round(speed,2)"
   ]
  },
  {
   "cell_type": "code",
   "execution_count": 9,
   "id": "4c5bea06",
   "metadata": {},
   "outputs": [
    {
     "data": {
      "text/plain": [
       "48"
      ]
     },
     "execution_count": 9,
     "metadata": {},
     "output_type": "execute_result"
    }
   ],
   "source": [
    "# BODMAS RULE\n",
    "18+5*6"
   ]
  },
  {
   "cell_type": "code",
   "execution_count": 8,
   "id": "e2c35d0a",
   "metadata": {},
   "outputs": [
    {
     "data": {
      "text/plain": [
       "138"
      ]
     },
     "execution_count": 8,
     "metadata": {},
     "output_type": "execute_result"
    }
   ],
   "source": [
    "(18+5)*6"
   ]
  },
  {
   "cell_type": "code",
   "execution_count": 10,
   "id": "c0c0095a",
   "metadata": {},
   "outputs": [
    {
     "name": "stdout",
     "output_type": "stream",
     "text": [
      "173042.491712\n",
      "17563812.911114242\n"
     ]
    }
   ],
   "source": [
    "a = 203\n",
    "b = 86521.245856\n",
    "print(b/a*a+b)\n",
    "print(a/b+a*b)"
   ]
  },
  {
   "cell_type": "code",
   "execution_count": 12,
   "id": "a5b46f64",
   "metadata": {},
   "outputs": [
    {
     "data": {
      "text/plain": [
       "17564239.124148015"
      ]
     },
     "execution_count": 12,
     "metadata": {},
     "output_type": "execute_result"
    }
   ],
   "source": [
    "c = a/b + a*b + b/a\n",
    "c"
   ]
  },
  {
   "cell_type": "code",
   "execution_count": 13,
   "id": "ddf80104",
   "metadata": {},
   "outputs": [
    {
     "data": {
      "text/plain": [
       "float"
      ]
     },
     "execution_count": 13,
     "metadata": {},
     "output_type": "execute_result"
    }
   ],
   "source": [
    "type(c)"
   ]
  },
  {
   "cell_type": "code",
   "execution_count": null,
   "id": "2df919b0",
   "metadata": {},
   "outputs": [],
   "source": []
  }
 ],
 "metadata": {
  "kernelspec": {
   "display_name": "Python 3",
   "language": "python",
   "name": "python3"
  },
  "language_info": {
   "codemirror_mode": {
    "name": "ipython",
    "version": 3
   },
   "file_extension": ".py",
   "mimetype": "text/x-python",
   "name": "python",
   "nbconvert_exporter": "python",
   "pygments_lexer": "ipython3",
   "version": "3.8.8"
  }
 },
 "nbformat": 4,
 "nbformat_minor": 5
}
