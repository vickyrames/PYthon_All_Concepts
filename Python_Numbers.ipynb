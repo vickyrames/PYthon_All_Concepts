{
 "cells": [
  {
   "cell_type": "code",
   "execution_count": null,
   "id": "b2db9176",
   "metadata": {},
   "outputs": [],
   "source": [
    "A = 5 ; \n",
    "B = 10 ;\n",
    "print(A+B);\n",
    "print(A+B);"
   ]
  }
 ],
 "metadata": {
  "kernelspec": {
   "display_name": "Python 3",
   "language": "python",
   "name": "python3"
  },
  "language_info": {
   "codemirror_mode": {
    "name": "ipython",
    "version": 3
   },
   "file_extension": ".py",
   "mimetype": "text/x-python",
   "name": "python",
   "nbconvert_exporter": "python",
   "pygments_lexer": "ipython3",
   "version": "3.8.8"
  }
 },
 "nbformat": 4,
 "nbformat_minor": 5
}
