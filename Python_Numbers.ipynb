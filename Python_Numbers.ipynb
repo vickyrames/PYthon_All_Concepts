{
 "cells": [
  {
   "cell_type": "code",
   "execution_count": 1,
   "id": "250e8aae",
   "metadata": {},
   "outputs": [
    {
     "name": "stdout",
     "output_type": "stream",
     "text": [
      "15\n",
      "50\n",
      "0.5\n",
      "-5\n"
     ]
    }
   ],
   "source": [
    "A = 5 ; \n",
    "B = 10 ;\n",
    "print(A+B);\n",
    "print(A*B);\n",
    "print(A/B);\n",
    "print(A-B);"
   ]
  },
  {
   "cell_type": "code",
   "execution_count": null,
   "id": "b6bd6f35",
   "metadata": {},
   "outputs": [],
   "source": []
  }
 ],
 "metadata": {
  "kernelspec": {
   "display_name": "Python 3",
   "language": "python",
   "name": "python3"
  },
  "language_info": {
   "codemirror_mode": {
    "name": "ipython",
    "version": 3
   },
   "file_extension": ".py",
   "mimetype": "text/x-python",
   "name": "python",
   "nbconvert_exporter": "python",
   "pygments_lexer": "ipython3",
   "version": "3.8.8"
  }
 },
 "nbformat": 4,
 "nbformat_minor": 5
}
