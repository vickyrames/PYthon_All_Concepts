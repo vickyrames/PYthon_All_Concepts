{
 "cells": [
  {
   "cell_type": "code",
   "execution_count": 1,
   "id": "aa5edaa5",
   "metadata": {},
   "outputs": [],
   "source": [
    "# For Loop Example"
   ]
  },
  {
   "cell_type": "markdown",
   "id": "970174ff",
   "metadata": {},
   "source": [
    "### For Loop Example"
   ]
  },
  {
   "cell_type": "code",
   "execution_count": 2,
   "id": "e786524e",
   "metadata": {},
   "outputs": [],
   "source": [
    "## A Python program to display characters of a string using for loop"
   ]
  },
  {
   "cell_type": "code",
   "execution_count": 7,
   "id": "bf193396",
   "metadata": {},
   "outputs": [
    {
     "name": "stdout",
     "output_type": "stream",
     "text": [
      "P\n",
      "Y\n",
      "T\n",
      "H\n",
      "O\n",
      "N\n",
      " \n",
      "C\n",
      "O\n",
      "D\n",
      "E\n"
     ]
    }
   ],
   "source": [
    "str = 'Python Code'\n",
    "\n",
    "for ch in str:\n",
    "    print(ch.upper())"
   ]
  },
  {
   "cell_type": "code",
   "execution_count": 8,
   "id": "d31dc701",
   "metadata": {},
   "outputs": [
    {
     "data": {
      "text/plain": [
       "6"
      ]
     },
     "execution_count": 8,
     "metadata": {},
     "output_type": "execute_result"
    }
   ],
   "source": [
    "b = 'Length'\n",
    "len(b)"
   ]
  },
  {
   "cell_type": "code",
   "execution_count": 9,
   "id": "d7f1a367",
   "metadata": {},
   "outputs": [],
   "source": [
    "## To Display Odd Numbers from 1 to 50 using range"
   ]
  },
  {
   "cell_type": "code",
   "execution_count": 11,
   "id": "47a0f35c",
   "metadata": {},
   "outputs": [
    {
     "name": "stdout",
     "output_type": "stream",
     "text": [
      "1\n",
      "3\n",
      "5\n",
      "7\n",
      "9\n",
      "11\n",
      "13\n",
      "15\n",
      "17\n",
      "19\n",
      "21\n",
      "23\n",
      "25\n",
      "27\n",
      "29\n",
      "31\n",
      "33\n",
      "35\n",
      "37\n",
      "39\n",
      "41\n",
      "43\n",
      "45\n",
      "47\n",
      "49\n"
     ]
    }
   ],
   "source": [
    "for i in range(1,50):\n",
    "    if(i % 2 == 1):\n",
    "        print(i)"
   ]
  },
  {
   "cell_type": "code",
   "execution_count": 12,
   "id": "9b7138a5",
   "metadata": {},
   "outputs": [],
   "source": []
  },
  {
   "cell_type": "code",
   "execution_count": 13,
   "id": "2e37e06e",
   "metadata": {},
   "outputs": [
    {
     "name": "stdout",
     "output_type": "stream",
     "text": [
      "10\n",
      "9\n",
      "8\n",
      "7\n",
      "6\n",
      "5\n",
      "4\n",
      "3\n",
      "2\n",
      "1\n"
     ]
    }
   ],
   "source": [
    "# To display numbers in Descending Orders\n",
    "for i in range(10,0,-1):\n",
    "    print(i)"
   ]
  },
  {
   "cell_type": "code",
   "execution_count": 17,
   "id": "42674981",
   "metadata": {},
   "outputs": [
    {
     "name": "stdout",
     "output_type": "stream",
     "text": [
      "5\n",
      "10\n",
      "15\n",
      "20\n",
      "25\n",
      "30\n",
      "35\n",
      "40\n",
      "45\n"
     ]
    }
   ],
   "source": [
    "# To display numbers in Ascending Orders\n",
    "for j in range(5,50,5):\n",
    "    print(j)"
   ]
  },
  {
   "cell_type": "code",
   "execution_count": 19,
   "id": "3f386ab3",
   "metadata": {},
   "outputs": [
    {
     "name": "stdout",
     "output_type": "stream",
     "text": [
      "144\n"
     ]
    }
   ],
   "source": [
    "# To display sum of numbers in a list\n",
    "lst = [12,15,23,35,48,11]\n",
    "su_m = 0\n",
    "for ae in lst:\n",
    "    su_m = su_m + ae\n",
    "print(su_m)"
   ]
  },
  {
   "cell_type": "markdown",
   "id": "e6397412",
   "metadata": {},
   "source": [
    "### Nested Loops "
   ]
  },
  {
   "cell_type": "code",
   "execution_count": 25,
   "id": "7975cc94",
   "metadata": {},
   "outputs": [
    {
     "name": "stdout",
     "output_type": "stream",
     "text": [
      "i =  0 \t j =  0\n",
      "i =  0 \t j =  1\n",
      "i =  1 \t j =  0\n",
      "i =  1 \t j =  1\n"
     ]
    }
   ],
   "source": [
    "for i in range(0,2):\n",
    "    for j in range(0,2):\n",
    "        print('i = ', i, '\\t', 'j = ', j)"
   ]
  },
  {
   "cell_type": "code",
   "execution_count": 26,
   "id": "62d2215c",
   "metadata": {},
   "outputs": [],
   "source": [
    "## To display right angled triangle or stair case star pattern"
   ]
  },
  {
   "cell_type": "code",
   "execution_count": 51,
   "id": "7d876a87",
   "metadata": {},
   "outputs": [
    {
     "name": "stdout",
     "output_type": "stream",
     "text": [
      "\n",
      "*\n",
      "**\n",
      "***\n",
      "****\n"
     ]
    }
   ],
   "source": [
    "for i in range(0,5):\n",
    "    for j in range(0,i):\n",
    "        print(\"*\",end=\"\")\n",
    "    print(\"\")"
   ]
  },
  {
   "cell_type": "code",
   "execution_count": 32,
   "id": "66d1b106",
   "metadata": {},
   "outputs": [],
   "source": [
    "## To display (reverse) right angled triangle or stair case star pattern"
   ]
  },
  {
   "cell_type": "code",
   "execution_count": 50,
   "id": "797165c6",
   "metadata": {},
   "outputs": [
    {
     "name": "stdout",
     "output_type": "stream",
     "text": [
      "*****\n",
      "****\n",
      "***\n",
      "**\n",
      "*\n"
     ]
    }
   ],
   "source": [
    "for i in range(5,0,-1):\n",
    "    for j in range(0,i):\n",
    "        print('*',end=\"\")\n",
    "    print('')"
   ]
  },
  {
   "cell_type": "code",
   "execution_count": 59,
   "id": "74aa407b",
   "metadata": {},
   "outputs": [
    {
     "name": "stdout",
     "output_type": "stream",
     "text": [
      "*\n",
      " *\n",
      "  *\n",
      "   *\n",
      "    *\n"
     ]
    }
   ],
   "source": [
    "for i in range(0,5):\n",
    "    for j in range(0,i):\n",
    "        print(' ', end='')\n",
    "    print('*')\n",
    "    "
   ]
  },
  {
   "cell_type": "code",
   "execution_count": 60,
   "id": "52bb30f1",
   "metadata": {},
   "outputs": [],
   "source": [
    "# To Display numbers from 1 to 100 in 10 rows and 10 columns"
   ]
  },
  {
   "cell_type": "code",
   "execution_count": 62,
   "id": "2a2d4ab9",
   "metadata": {},
   "outputs": [
    {
     "name": "stdout",
     "output_type": "stream",
     "text": [
      "1   2   3   4   5   6   7   8   9   10   \n",
      "2   4   6   8   10   12   14   16   18   20   \n",
      "3   6   9   12   15   18   21   24   27   30   \n",
      "4   8   12   16   20   24   28   32   36   40   \n",
      "5   10   15   20   25   30   35   40   45   50   \n",
      "6   12   18   24   30   36   42   48   54   60   \n",
      "7   14   21   28   35   42   49   56   63   70   \n",
      "8   16   24   32   40   48   56   64   72   80   \n",
      "9   18   27   36   45   54   63   72   81   90   \n",
      "10   20   30   40   50   60   70   80   90   100   \n"
     ]
    }
   ],
   "source": [
    "for i in range(1,11):\n",
    "    for j in range(1,11):\n",
    "        print('{:8}'i*j,'  ',end='')\n",
    "    print()"
   ]
  },
  {
   "cell_type": "code",
   "execution_count": null,
   "id": "7576002a",
   "metadata": {},
   "outputs": [],
   "source": []
  }
 ],
 "metadata": {
  "kernelspec": {
   "display_name": "Python 3",
   "language": "python",
   "name": "python3"
  },
  "language_info": {
   "codemirror_mode": {
    "name": "ipython",
    "version": 3
   },
   "file_extension": ".py",
   "mimetype": "text/x-python",
   "name": "python",
   "nbconvert_exporter": "python",
   "pygments_lexer": "ipython3",
   "version": "3.8.8"
  }
 },
 "nbformat": 4,
 "nbformat_minor": 5
}
