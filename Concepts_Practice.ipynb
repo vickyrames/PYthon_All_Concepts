{
 "cells": [
  {
   "cell_type": "markdown",
   "id": "2615035c",
   "metadata": {},
   "source": [
    "### Python Data Structures and Boolean\n",
    "\n",
    "Boolean\n",
    "Boolean and Logical Operators\n",
    "Lists\n",
    "Comparison Operators\n",
    "Dictionaries\n",
    "Tuples\n",
    "Sets"
   ]
  },
  {
   "cell_type": "code",
   "execution_count": 1,
   "id": "2e5e903d",
   "metadata": {},
   "outputs": [],
   "source": [
    "bo_boolean = True"
   ]
  },
  {
   "cell_type": "code",
   "execution_count": 2,
   "id": "6cc78645",
   "metadata": {},
   "outputs": [
    {
     "name": "stdout",
     "output_type": "stream",
     "text": [
      "True\n"
     ]
    }
   ],
   "source": [
    "print(bo_boolean)"
   ]
  },
  {
   "cell_type": "code",
   "execution_count": 3,
   "id": "689522b6",
   "metadata": {},
   "outputs": [],
   "source": [
    "lst = [10,24,34,54,25,31]"
   ]
  },
  {
   "cell_type": "code",
   "execution_count": 5,
   "id": "1ac91af3",
   "metadata": {},
   "outputs": [],
   "source": [
    "lst_string = ['The','Boolean','Value']"
   ]
  },
  {
   "cell_type": "code",
   "execution_count": 6,
   "id": "70010d07",
   "metadata": {},
   "outputs": [],
   "source": [
    "string = ''.join(lst_string)"
   ]
  },
  {
   "cell_type": "code",
   "execution_count": 7,
   "id": "177b660e",
   "metadata": {},
   "outputs": [
    {
     "name": "stdout",
     "output_type": "stream",
     "text": [
      "TheBooleanValue\n"
     ]
    }
   ],
   "source": [
    "print(string)"
   ]
  },
  {
   "cell_type": "code",
   "execution_count": 8,
   "id": "cc5e50b3",
   "metadata": {},
   "outputs": [],
   "source": [
    "con_numbers = ''.join(str(lst))"
   ]
  },
  {
   "cell_type": "code",
   "execution_count": 9,
   "id": "96539879",
   "metadata": {},
   "outputs": [
    {
     "name": "stdout",
     "output_type": "stream",
     "text": [
      "[10, 24, 34, 54, 25, 31]\n"
     ]
    }
   ],
   "source": [
    "print(con_numbers)"
   ]
  },
  {
   "cell_type": "code",
   "execution_count": 10,
   "id": "e9199739",
   "metadata": {},
   "outputs": [],
   "source": [
    "lst_string.append('Sharing')"
   ]
  },
  {
   "cell_type": "code",
   "execution_count": 11,
   "id": "a485c194",
   "metadata": {},
   "outputs": [
    {
     "data": {
      "text/plain": [
       "['The', 'Boolean', 'Value', 'Sharing']"
      ]
     },
     "execution_count": 11,
     "metadata": {},
     "output_type": "execute_result"
    }
   ],
   "source": [
    "lst_string"
   ]
  },
  {
   "cell_type": "code",
   "execution_count": 12,
   "id": "c9e83df4",
   "metadata": {},
   "outputs": [],
   "source": [
    "set_test = set({1,1,2,2,3,3,3,3,3,4,4,4,5,5,5,6,6,7,8,7,6,5,43,2})"
   ]
  },
  {
   "cell_type": "code",
   "execution_count": 13,
   "id": "e8f344ad",
   "metadata": {},
   "outputs": [
    {
     "data": {
      "text/plain": [
       "{1, 2, 3, 4, 5, 6, 7, 8, 43}"
      ]
     },
     "execution_count": 13,
     "metadata": {},
     "output_type": "execute_result"
    }
   ],
   "source": [
    "set_test"
   ]
  },
  {
   "cell_type": "code",
   "execution_count": 16,
   "id": "1d516588",
   "metadata": {},
   "outputs": [
    {
     "data": {
      "text/plain": [
       "[100, 576, 1156, 2916, 625, 961]"
      ]
     },
     "execution_count": 16,
     "metadata": {},
     "output_type": "execute_result"
    }
   ],
   "source": [
    "list(map(lambda x : x ** 2,lst))"
   ]
  },
  {
   "cell_type": "code",
   "execution_count": 19,
   "id": "eaf6e89a",
   "metadata": {},
   "outputs": [
    {
     "data": {
      "text/plain": [
       "[10, 24, 34, 54]"
      ]
     },
     "execution_count": 19,
     "metadata": {},
     "output_type": "execute_result"
    }
   ],
   "source": [
    "list(filter(lambda x : x % 2 == 0, lst))"
   ]
  },
  {
   "cell_type": "code",
   "execution_count": 20,
   "id": "16584726",
   "metadata": {},
   "outputs": [],
   "source": [
    "dict = {'a': [1,2,3,4],'b' : [10,11,12,13]}"
   ]
  },
  {
   "cell_type": "code",
   "execution_count": 22,
   "id": "aed6c962",
   "metadata": {},
   "outputs": [
    {
     "name": "stdout",
     "output_type": "stream",
     "text": [
      "dict_keys(['a', 'b'])\n"
     ]
    }
   ],
   "source": [
    "print(dict.keys())"
   ]
  },
  {
   "cell_type": "code",
   "execution_count": 23,
   "id": "fb50a1ab",
   "metadata": {},
   "outputs": [
    {
     "name": "stdout",
     "output_type": "stream",
     "text": [
      "a\n",
      "[1, 2, 3, 4]\n",
      "b\n",
      "[10, 11, 12, 13]\n"
     ]
    }
   ],
   "source": [
    "for i,j in dict.items():\n",
    "    print(i) \n",
    "    print(j)"
   ]
  },
  {
   "cell_type": "code",
   "execution_count": null,
   "id": "887cfe2d",
   "metadata": {},
   "outputs": [],
   "source": []
  }
 ],
 "metadata": {
  "kernelspec": {
   "display_name": "Python 3",
   "language": "python",
   "name": "python3"
  },
  "language_info": {
   "codemirror_mode": {
    "name": "ipython",
    "version": 3
   },
   "file_extension": ".py",
   "mimetype": "text/x-python",
   "name": "python",
   "nbconvert_exporter": "python",
   "pygments_lexer": "ipython3",
   "version": "3.8.8"
  }
 },
 "nbformat": 4,
 "nbformat_minor": 5
}
