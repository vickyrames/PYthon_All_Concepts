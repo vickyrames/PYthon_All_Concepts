{
 "cells": [
  {
   "cell_type": "code",
   "execution_count": 1,
   "id": "f75a654a",
   "metadata": {},
   "outputs": [],
   "source": [
    "# Strings Concepts"
   ]
  },
  {
   "cell_type": "code",
   "execution_count": 2,
   "id": "e4476467",
   "metadata": {},
   "outputs": [],
   "source": [
    "text = 'Hot Chocolate'"
   ]
  },
  {
   "cell_type": "code",
   "execution_count": 3,
   "id": "21e93a51",
   "metadata": {},
   "outputs": [
    {
     "ename": "TypeError",
     "evalue": "'str' object does not support item assignment",
     "output_type": "error",
     "traceback": [
      "\u001b[1;31m---------------------------------------------------------------------------\u001b[0m",
      "\u001b[1;31mTypeError\u001b[0m                                 Traceback (most recent call last)",
      "\u001b[1;32m<ipython-input-3-c5a87d607b22>\u001b[0m in \u001b[0;36m<module>\u001b[1;34m\u001b[0m\n\u001b[0;32m      1\u001b[0m \u001b[1;31m# Strings are immutable\u001b[0m\u001b[1;33m\u001b[0m\u001b[1;33m\u001b[0m\u001b[1;33m\u001b[0m\u001b[0m\n\u001b[1;32m----> 2\u001b[1;33m \u001b[0mtext\u001b[0m\u001b[1;33m[\u001b[0m\u001b[1;36m0\u001b[0m\u001b[1;33m]\u001b[0m \u001b[1;33m=\u001b[0m \u001b[1;34m'p'\u001b[0m\u001b[1;33m\u001b[0m\u001b[1;33m\u001b[0m\u001b[0m\n\u001b[0m",
      "\u001b[1;31mTypeError\u001b[0m: 'str' object does not support item assignment"
     ]
    }
   ],
   "source": [
    "# Strings are immutable\n",
    "text[0] = 'p'"
   ]
  },
  {
   "cell_type": "code",
   "execution_count": 9,
   "id": "fa6cc6e4",
   "metadata": {},
   "outputs": [
    {
     "data": {
      "text/plain": [
       "13"
      ]
     },
     "execution_count": 9,
     "metadata": {},
     "output_type": "execute_result"
    }
   ],
   "source": [
    "# To Find the length of a string\n",
    "len(text)"
   ]
  },
  {
   "cell_type": "code",
   "execution_count": 10,
   "id": "e8e2d254",
   "metadata": {},
   "outputs": [
    {
     "data": {
      "text/plain": [
       "'Hot'"
      ]
     },
     "execution_count": 10,
     "metadata": {},
     "output_type": "execute_result"
    }
   ],
   "source": [
    "# To  find the substring of a string\n",
    "## Slice the string from starting index (0) to index position (3)\n",
    "text[:3]"
   ]
  },
  {
   "cell_type": "code",
   "execution_count": 12,
   "id": "34d343a3",
   "metadata": {},
   "outputs": [
    {
     "data": {
      "text/plain": [
       "' Chocolate'"
      ]
     },
     "execution_count": 12,
     "metadata": {},
     "output_type": "execute_result"
    }
   ],
   "source": [
    "## Slice the string from starting index (3) to the length of string\n",
    "text[3:]"
   ]
  },
  {
   "cell_type": "code",
   "execution_count": 13,
   "id": "acf667b7",
   "metadata": {},
   "outputs": [
    {
     "data": {
      "text/plain": [
       "'t Chocolat'"
      ]
     },
     "execution_count": 13,
     "metadata": {},
     "output_type": "execute_result"
    }
   ],
   "source": [
    "text[2:len(text)-1]"
   ]
  },
  {
   "cell_type": "code",
   "execution_count": 14,
   "id": "e180c84b",
   "metadata": {},
   "outputs": [
    {
     "data": {
      "text/plain": [
       "'t Chocolate'"
      ]
     },
     "execution_count": 14,
     "metadata": {},
     "output_type": "execute_result"
    }
   ],
   "source": [
    "text[2:len(text)]"
   ]
  },
  {
   "cell_type": "code",
   "execution_count": 15,
   "id": "3bc93a66",
   "metadata": {},
   "outputs": [
    {
     "data": {
      "text/plain": [
       "'De Facto !Procedure '"
      ]
     },
     "execution_count": 15,
     "metadata": {},
     "output_type": "execute_result"
    }
   ],
   "source": [
    "# Concatenation of two strings\n",
    "v_str = 'De Facto !'\n",
    "v_str1 = 'Procedure '\n",
    "v_str + v_str1"
   ]
  },
  {
   "cell_type": "code",
   "execution_count": 17,
   "id": "27595e26",
   "metadata": {},
   "outputs": [
    {
     "ename": "TypeError",
     "evalue": "unsupported operand type(s) for +: 'int' and 'str'",
     "output_type": "error",
     "traceback": [
      "\u001b[1;31m---------------------------------------------------------------------------\u001b[0m",
      "\u001b[1;31mTypeError\u001b[0m                                 Traceback (most recent call last)",
      "\u001b[1;32m<ipython-input-17-c609d7cedd32>\u001b[0m in \u001b[0;36m<module>\u001b[1;34m\u001b[0m\n\u001b[0;32m      1\u001b[0m \u001b[0mv_num\u001b[0m \u001b[1;33m=\u001b[0m \u001b[1;36m20\u001b[0m\u001b[1;33m\u001b[0m\u001b[1;33m\u001b[0m\u001b[0m\n\u001b[0;32m      2\u001b[0m \u001b[0mv_str2\u001b[0m \u001b[1;33m=\u001b[0m \u001b[1;34m'# of chocolates'\u001b[0m\u001b[1;33m\u001b[0m\u001b[1;33m\u001b[0m\u001b[0m\n\u001b[1;32m----> 3\u001b[1;33m \u001b[0mv_num\u001b[0m \u001b[1;33m+\u001b[0m \u001b[0mv_str2\u001b[0m\u001b[1;33m\u001b[0m\u001b[1;33m\u001b[0m\u001b[0m\n\u001b[0m",
      "\u001b[1;31mTypeError\u001b[0m: unsupported operand type(s) for +: 'int' and 'str'"
     ]
    }
   ],
   "source": [
    "v_num = 20\n",
    "v_str2 = '# of chocolates'\n",
    "v_num + v_str2"
   ]
  },
  {
   "cell_type": "code",
   "execution_count": 18,
   "id": "6ca312bb",
   "metadata": {},
   "outputs": [
    {
     "data": {
      "text/plain": [
       "'20# of chocolates'"
      ]
     },
     "execution_count": 18,
     "metadata": {},
     "output_type": "execute_result"
    }
   ],
   "source": [
    "str(v_num) + v_str2"
   ]
  },
  {
   "cell_type": "code",
   "execution_count": 20,
   "id": "fa4ef94f",
   "metadata": {},
   "outputs": [
    {
     "name": "stdout",
     "output_type": "stream",
     "text": [
      "This art is an elegant peice of work.\n",
      "The Artist deserves a big reward for his outstanding work.\n",
      "Request the authorities to nominate the artist for a highly prestigious award.\n"
     ]
    }
   ],
   "source": [
    "v_statement = '''This art is an elegant peice of work.\n",
    "The Artist deserves a big reward for his outstanding work.\n",
    "Request the authorities to nominate the artist for a highly prestigious award.'''\n",
    "print(v_statement)"
   ]
  },
  {
   "cell_type": "code",
   "execution_count": 24,
   "id": "3de4a1f8",
   "metadata": {},
   "outputs": [
    {
     "data": {
      "text/plain": [
       "'This art is an elegant peice of work.\\nThe Artist deserves a big reward for his outstanding work.\\nRequest the authorities to nominate the artist for a highly prestigious award.'"
      ]
     },
     "execution_count": 24,
     "metadata": {},
     "output_type": "execute_result"
    }
   ],
   "source": [
    "# Python internally breaks this whole sentence to a next line with the help of \\n.\n",
    "v_statement"
   ]
  },
  {
   "cell_type": "code",
   "execution_count": 23,
   "id": "51e7acec",
   "metadata": {},
   "outputs": [
    {
     "name": "stdout",
     "output_type": "stream",
     "text": [
      "H\n",
      "o\n",
      "t\n",
      " \n",
      "C\n",
      "h\n",
      "o\n",
      "c\n",
      "o\n",
      "l\n",
      "a\n",
      "t\n",
      "e\n"
     ]
    }
   ],
   "source": [
    "# use for loop to iterate through string\n",
    "for i in range(0,len(text)):\n",
    "    print(text[i])"
   ]
  },
  {
   "cell_type": "code",
   "execution_count": 32,
   "id": "183442ce",
   "metadata": {},
   "outputs": [
    {
     "data": {
      "text/plain": [
       "'t'"
      ]
     },
     "execution_count": 32,
     "metadata": {},
     "output_type": "execute_result"
    }
   ],
   "source": [
    "text[-2]"
   ]
  },
  {
   "cell_type": "code",
   "execution_count": 30,
   "id": "5632f4dc",
   "metadata": {},
   "outputs": [
    {
     "data": {
      "text/plain": [
       "'e'"
      ]
     },
     "execution_count": 30,
     "metadata": {},
     "output_type": "execute_result"
    }
   ],
   "source": [
    "text[-1]"
   ]
  },
  {
   "cell_type": "code",
   "execution_count": 33,
   "id": "20775a20",
   "metadata": {},
   "outputs": [
    {
     "data": {
      "text/plain": [
       "'H'"
      ]
     },
     "execution_count": 33,
     "metadata": {},
     "output_type": "execute_result"
    }
   ],
   "source": [
    "text[-len(text)]"
   ]
  },
  {
   "cell_type": "code",
   "execution_count": null,
   "id": "20152a8f",
   "metadata": {},
   "outputs": [],
   "source": []
  }
 ],
 "metadata": {
  "kernelspec": {
   "display_name": "Python 3",
   "language": "python",
   "name": "python3"
  },
  "language_info": {
   "codemirror_mode": {
    "name": "ipython",
    "version": 3
   },
   "file_extension": ".py",
   "mimetype": "text/x-python",
   "name": "python",
   "nbconvert_exporter": "python",
   "pygments_lexer": "ipython3",
   "version": "3.8.8"
  }
 },
 "nbformat": 4,
 "nbformat_minor": 5
}
