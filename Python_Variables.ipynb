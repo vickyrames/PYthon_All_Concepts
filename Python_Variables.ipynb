{
 "cells": [
  {
   "cell_type": "code",
   "execution_count": 1,
   "id": "44d3f562",
   "metadata": {},
   "outputs": [],
   "source": [
    "# VARIABLES IN PYTHON"
   ]
  },
  {
   "cell_type": "code",
   "execution_count": 2,
   "id": "91041834",
   "metadata": {},
   "outputs": [
    {
     "name": "stdout",
     "output_type": "stream",
     "text": [
      "2627.5\n"
     ]
    }
   ],
   "source": [
    "rent = 1400\n",
    "gas = 202.5\n",
    "groceries = 1025\n",
    "total_expenses = rent + gas + groceries\n",
    "print(total_expenses)"
   ]
  },
  {
   "cell_type": "code",
   "execution_count": 3,
   "id": "fcb91771",
   "metadata": {},
   "outputs": [
    {
     "name": "stdout",
     "output_type": "stream",
     "text": [
      "String1ConcatString2Concat\n"
     ]
    }
   ],
   "source": [
    "v_Var1 = 'String1Concat'\n",
    "v_Var2 = 'String2Concat'\n",
    "print(v_Var1 + v_Var2)"
   ]
  },
  {
   "cell_type": "code",
   "execution_count": 4,
   "id": "78c000c4",
   "metadata": {},
   "outputs": [
    {
     "name": "stdout",
     "output_type": "stream",
     "text": [
      "Electornic Products :  MobilePhone One Plus 1 Laptop Lenovo Tablet Samsung iPAD Apple\n"
     ]
    }
   ],
   "source": [
    "item1 = 'MobilePhone One Plus 1'\n",
    "item2 = 'Laptop Lenovo'\n",
    "item3 = 'Tablet Samsung'\n",
    "item4 = 'iPAD Apple'\n",
    "print('Electornic Products : ', item1, item2, item3, item4)"
   ]
  },
  {
   "cell_type": "code",
   "execution_count": null,
   "id": "33f4091c",
   "metadata": {},
   "outputs": [],
   "source": []
  }
 ],
 "metadata": {
  "kernelspec": {
   "display_name": "Python 3",
   "language": "python",
   "name": "python3"
  },
  "language_info": {
   "codemirror_mode": {
    "name": "ipython",
    "version": 3
   },
   "file_extension": ".py",
   "mimetype": "text/x-python",
   "name": "python",
   "nbconvert_exporter": "python",
   "pygments_lexer": "ipython3",
   "version": "3.8.8"
  }
 },
 "nbformat": 4,
 "nbformat_minor": 5
}
