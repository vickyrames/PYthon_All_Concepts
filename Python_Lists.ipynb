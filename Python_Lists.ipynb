{
 "cells": [
  {
   "cell_type": "code",
   "execution_count": 1,
   "id": "c607e861",
   "metadata": {},
   "outputs": [],
   "source": [
    "# Python Lists"
   ]
  },
  {
   "cell_type": "code",
   "execution_count": 11,
   "id": "5cc7b904",
   "metadata": {},
   "outputs": [],
   "source": [
    "# Create a List\n",
    "Movies = ['Thor Ragnarok', 'Avengers Age of Ultron', 'Infinity War', 'Black Panther']"
   ]
  },
  {
   "cell_type": "code",
   "execution_count": 12,
   "id": "01d2ef56",
   "metadata": {},
   "outputs": [
    {
     "data": {
      "text/plain": [
       "'Black Panther'"
      ]
     },
     "execution_count": 12,
     "metadata": {},
     "output_type": "execute_result"
    }
   ],
   "source": [
    "# To Retrieve an item from a list \n",
    "Movies[-1]"
   ]
  },
  {
   "cell_type": "code",
   "execution_count": 13,
   "id": "a5020282",
   "metadata": {},
   "outputs": [
    {
     "data": {
      "text/plain": [
       "True"
      ]
     },
     "execution_count": 13,
     "metadata": {},
     "output_type": "execute_result"
    }
   ],
   "source": [
    "# To check whether an item is available in the list\n",
    "'Thor Ragnarok' in Movies"
   ]
  },
  {
   "cell_type": "code",
   "execution_count": 14,
   "id": "bb54c300",
   "metadata": {},
   "outputs": [
    {
     "data": {
      "text/plain": [
       "['Thor Ragnarok',\n",
       " 'Avengers Age of Ultron',\n",
       " 'Infinity War',\n",
       " 'Black Panther',\n",
       " 'Captain America']"
      ]
     },
     "execution_count": 14,
     "metadata": {},
     "output_type": "execute_result"
    }
   ],
   "source": [
    "# append() function is used to add an item to a list\n",
    "Movies.append('Captain America')\n",
    "Movies"
   ]
  },
  {
   "cell_type": "code",
   "execution_count": 15,
   "id": "033ee03e",
   "metadata": {},
   "outputs": [
    {
     "data": {
      "text/plain": [
       "['Thor Ragnarok',\n",
       " 'Captain Marvel',\n",
       " 'Avengers Age of Ultron',\n",
       " 'Infinity War',\n",
       " 'Black Panther',\n",
       " 'Captain America']"
      ]
     },
     "execution_count": 15,
     "metadata": {},
     "output_type": "execute_result"
    }
   ],
   "source": [
    "# insert() function is used to insert an item to a list\n",
    "Movies.insert(1,'Captain Marvel')\n",
    "Movies"
   ]
  },
  {
   "cell_type": "code",
   "execution_count": 16,
   "id": "b1bc43ed",
   "metadata": {},
   "outputs": [
    {
     "name": "stdout",
     "output_type": "stream",
     "text": [
      "Thor Ragnarok\n",
      "Captain Marvel\n",
      "Avengers Age of Ultron\n",
      "Infinity War\n",
      "Black Panther\n",
      "Captain America\n"
     ]
    }
   ],
   "source": [
    "# Use for loop to loop through the list\n",
    "for item in range(0,len(Movies)):\n",
    "    print(Movies[item])"
   ]
  },
  {
   "cell_type": "code",
   "execution_count": 17,
   "id": "ee8b9419",
   "metadata": {},
   "outputs": [
    {
     "name": "stdout",
     "output_type": "stream",
     "text": [
      "Thor Ragnarok\n",
      "Captain Marvel\n",
      "Avengers Age of Ultron\n",
      "Infinity War\n",
      "Black Panther\n",
      "Captain America\n"
     ]
    }
   ],
   "source": [
    "# Loop through items in a list without range function\n",
    "for item in Movies:\n",
    "    print(item)"
   ]
  },
  {
   "cell_type": "code",
   "execution_count": 20,
   "id": "c13e776e",
   "metadata": {},
   "outputs": [
    {
     "data": {
      "text/plain": [
       "['Thor Ragnarok',\n",
       " 'Captain Marvel',\n",
       " 'Avengers Age of Ultron',\n",
       " 'Infinity War',\n",
       " 'Captain America']"
      ]
     },
     "execution_count": 20,
     "metadata": {},
     "output_type": "execute_result"
    }
   ],
   "source": [
    "# Remove() function Expects an argument as a value (available in the list) to perform the remove operation in the list\n",
    "Movies.remove('Black Panther')\n",
    "Movies"
   ]
  },
  {
   "cell_type": "code",
   "execution_count": 21,
   "id": "189a1a36",
   "metadata": {},
   "outputs": [
    {
     "data": {
      "text/plain": [
       "['Thor Ragnarok', 'Captain Marvel', 'Avengers Age of Ultron', 'Infinity War']"
      ]
     },
     "execution_count": 21,
     "metadata": {},
     "output_type": "execute_result"
    }
   ],
   "source": [
    "# Pop() method removes the last elemment from the list\n",
    "Movies.pop()\n",
    "Movies"
   ]
  },
  {
   "cell_type": "code",
   "execution_count": 23,
   "id": "589b28a4",
   "metadata": {},
   "outputs": [
    {
     "data": {
      "text/plain": [
       "['Thor Ragnarok',\n",
       " 'Captain Marvel',\n",
       " 'Avengers Age of Ultron',\n",
       " 'Infinity War',\n",
       " 'Batman Returns',\n",
       " 'Justice League']"
      ]
     },
     "execution_count": 23,
     "metadata": {},
     "output_type": "execute_result"
    }
   ],
   "source": [
    "# Join two list \n",
    "All_Movies = Movies + ['Batman Returns', 'Justice League']\n",
    "All_Movies"
   ]
  },
  {
   "cell_type": "code",
   "execution_count": 24,
   "id": "6f8fb3a8",
   "metadata": {},
   "outputs": [
    {
     "data": {
      "text/plain": [
       "['Thor Ragnarok', 'Avengers Age of Ultron', 'Infinity War']"
      ]
     },
     "execution_count": 24,
     "metadata": {},
     "output_type": "execute_result"
    }
   ],
   "source": [
    "# Use del operation to delete an item from the list with specified index\n",
    "del Movies[1]\n",
    "Movies"
   ]
  },
  {
   "cell_type": "code",
   "execution_count": 25,
   "id": "faff9cd3",
   "metadata": {},
   "outputs": [
    {
     "data": {
      "text/plain": [
       "['Thor Ragnarok',\n",
       " 'Captain Marvel',\n",
       " 'Avengers Age of Ultron',\n",
       " 'Infinity War',\n",
       " 'Batman Returns',\n",
       " 'Justice League']"
      ]
     },
     "execution_count": 25,
     "metadata": {},
     "output_type": "execute_result"
    }
   ],
   "source": [
    "All_Movies"
   ]
  },
  {
   "cell_type": "code",
   "execution_count": null,
   "id": "88ab8135",
   "metadata": {},
   "outputs": [],
   "source": []
  },
  {
   "cell_type": "code",
   "execution_count": null,
   "id": "c8c62982",
   "metadata": {},
   "outputs": [],
   "source": []
  }
 ],
 "metadata": {
  "kernelspec": {
   "display_name": "Python 3",
   "language": "python",
   "name": "python3"
  },
  "language_info": {
   "codemirror_mode": {
    "name": "ipython",
    "version": 3
   },
   "file_extension": ".py",
   "mimetype": "text/x-python",
   "name": "python",
   "nbconvert_exporter": "python",
   "pygments_lexer": "ipython3",
   "version": "3.8.8"
  }
 },
 "nbformat": 4,
 "nbformat_minor": 5
}
